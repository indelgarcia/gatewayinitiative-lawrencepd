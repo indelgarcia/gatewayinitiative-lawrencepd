{
 "cells": [
  {
   "cell_type": "code",
   "execution_count": 4,
   "id": "ecf17983",
   "metadata": {},
   "outputs": [
    {
     "name": "stderr",
     "output_type": "stream",
     "text": [
      "C:\\Users\\Indel\\AppData\\Local\\Temp\\ipykernel_26976\\2596002454.py:10: DtypeWarning: Columns (6,7,8,12) have mixed types. Specify dtype option on import or set low_memory=False.\n",
      "  df = pd.read_csv(csv_path)\n"
     ]
    },
    {
     "name": "stdout",
     "output_type": "stream",
     "text": [
      "[INFO] Parsing date column...\n",
      "[INFO] Finding missing dates...\n",
      "[INFO] Writing missing dates to: c:\\Users\\Indel\\Documents\\gatewayinitiative-lawrencepd\\scripts\\missing_dates.txt\n",
      "[DONE] Found 96 missing dates.\n"
     ]
    }
   ],
   "source": [
    "import os\n",
    "import pandas as pd\n",
    "from datetime import datetime, timedelta\n",
    "\n",
    "# Step 1: Get current directory\n",
    "current_dir = os.getcwd()\n",
    "\n",
    "# Step 2: Load the CSV\n",
    "csv_path = os.path.join(current_dir, '..', 'data', 'checkpoints', 'checkpoint9_no_2025.csv')\n",
    "df = pd.read_csv(csv_path)\n",
    "\n",
    "# Step 3: Parse the date column\n",
    "print(\"[INFO] Parsing date column...\")\n",
    "df['Date'] = pd.to_datetime(df['Date'], errors='coerce')\n",
    "df = df.dropna(subset=['Date'])  # Drop rows where the date couldn't be parsed\n",
    "df['Date'] = df['Date'].dt.date\n",
    "\n",
    "# Step 4: Generate all expected dates from 2018 to 2024\n",
    "start_date = datetime(2018, 1, 1).date()\n",
    "end_date = datetime(2024, 12, 31).date()\n",
    "expected_dates = set(start_date + timedelta(days=i) for i in range((end_date - start_date).days + 1))\n",
    "\n",
    "# Step 5: Get actual dates in the dataset\n",
    "actual_dates = set(df['Date'])\n",
    "\n",
    "# Step 6: Find missing dates\n",
    "print(\"[INFO] Finding missing dates...\")\n",
    "missing_dates = sorted(list(expected_dates - actual_dates))\n",
    "\n",
    "# Step 7: Save missing dates to a text file\n",
    "output_file = os.path.join(current_dir, 'missing_dates.txt')\n",
    "print(f\"[INFO] Writing missing dates to: {output_file}\")\n",
    "with open(output_file, 'w') as f:\n",
    "    for date in missing_dates:\n",
    "        f.write(str(date) + '\\n')\n",
    "\n",
    "print(f\"[DONE] Found {len(missing_dates)} missing dates.\")\n"
   ]
  },
  {
   "cell_type": "markdown",
   "id": "4695c870",
   "metadata": {},
   "source": [
    "### After transformation of missing data (md) dataset (md_checkpoint8), combine with most recent checkpoint"
   ]
  },
  {
   "cell_type": "code",
   "execution_count": 25,
   "id": "a9abc0e4",
   "metadata": {},
   "outputs": [],
   "source": [
    "import os\n",
    "import pandas as pd"
   ]
  },
  {
   "cell_type": "code",
   "execution_count": 26,
   "id": "f52139db",
   "metadata": {},
   "outputs": [],
   "source": [
    "notebook_dir = os.getcwd()"
   ]
  },
  {
   "cell_type": "code",
   "execution_count": 27,
   "id": "5bd9f943",
   "metadata": {},
   "outputs": [],
   "source": [
    "md_file_path = os.path.join(notebook_dir, '..', 'data', 'missing_dates_csv')"
   ]
  },
  {
   "cell_type": "code",
   "execution_count": 28,
   "id": "4e0aec4b",
   "metadata": {},
   "outputs": [],
   "source": [
    "cp_file_path = os.path.join(notebook_dir, '..', 'data', 'checkpoints')"
   ]
  },
  {
   "cell_type": "code",
   "execution_count": 29,
   "id": "1238828f",
   "metadata": {},
   "outputs": [],
   "source": [
    "md_df = pd.read_csv(os.path.join(md_file_path, 'md_checkpoints', 'md_checkpoint8_mass_filtered.csv'))\n",
    "cp_df = pd.read_csv(os.path.join(cp_file_path, 'checkpoint9_no_2025.csv'))"
   ]
  },
  {
   "cell_type": "code",
   "execution_count": 30,
   "id": "293a70a2",
   "metadata": {},
   "outputs": [],
   "source": [
    "md_df.columns = md_df.columns.str.strip()\n",
    "cp_df.columns = cp_df.columns.str.strip()"
   ]
  },
  {
   "cell_type": "code",
   "execution_count": 31,
   "id": "67395d84",
   "metadata": {},
   "outputs": [],
   "source": [
    "combined_df = pd.concat([cp_df, md_df], ignore_index=True)"
   ]
  },
  {
   "cell_type": "code",
   "execution_count": 36,
   "id": "584bf172",
   "metadata": {},
   "outputs": [
    {
     "name": "stdout",
     "output_type": "stream",
     "text": [
      "[INFO] Sample raw md_df['Date'] values:\n",
      "0    2024-01-07 00:04:59\n",
      "1    2024-01-07 00:07:28\n",
      "2    2024-01-07 00:07:41\n",
      "3    2024-01-07 00:29:26\n",
      "4    2024-01-07 00:29:38\n",
      "5    2024-01-07 00:42:11\n",
      "6    2024-01-07 01:17:00\n",
      "7    2024-01-07 01:21:27\n",
      "8    2024-01-07 01:31:53\n",
      "9    2024-01-07 02:02:43\n",
      "Name: Date, dtype: object\n"
     ]
    }
   ],
   "source": [
    "# Check what the date values look like\n",
    "print(\"[INFO] Sample raw md_df['Date'] values:\")\n",
    "print(md_df['Date'].head(10))"
   ]
  },
  {
   "cell_type": "code",
   "execution_count": 37,
   "id": "9dc25b21",
   "metadata": {},
   "outputs": [
    {
     "name": "stdout",
     "output_type": "stream",
     "text": [
      "[INFO] Sample raw cp_df['Date'] values:\n",
      "0    4/1/2018 0:02\n",
      "1    4/1/2018 0:03\n",
      "2    4/1/2018 0:11\n",
      "3    4/1/2018 0:13\n",
      "4    4/1/2018 0:23\n",
      "5    4/1/2018 0:23\n",
      "6    4/1/2018 0:27\n",
      "7    4/1/2018 0:28\n",
      "8    4/1/2018 0:45\n",
      "9    4/1/2018 0:46\n",
      "Name: Date, dtype: object\n"
     ]
    }
   ],
   "source": [
    "print(\"[INFO] Sample raw cp_df['Date'] values:\")\n",
    "print(cp_df['Date'].head(10))"
   ]
  },
  {
   "cell_type": "code",
   "execution_count": 38,
   "id": "b97ea6cf",
   "metadata": {},
   "outputs": [],
   "source": [
    "# Fix cp_df date format (Month/Day/Year Hour:Minute)\n",
    "cp_df['Date'] = pd.to_datetime(cp_df['Date'], format='%m/%d/%Y %H:%M', errors='coerce')\n",
    "\n",
    "# Fix md_df date format (ISO format should work without format)\n",
    "md_df['Date'] = pd.to_datetime(md_df['Date'], errors='coerce')\n"
   ]
  },
  {
   "cell_type": "code",
   "execution_count": 39,
   "id": "f85f1901",
   "metadata": {},
   "outputs": [
    {
     "name": "stdout",
     "output_type": "stream",
     "text": [
      "[INFO] Dropped 0 rows due to invalid dates.\n"
     ]
    }
   ],
   "source": [
    "# Combine after fixing dates\n",
    "combined_df = pd.concat([cp_df, md_df], ignore_index=True)\n",
    "\n",
    "# Drop any rows with bad dates and sort\n",
    "before = len(combined_df)\n",
    "combined_df = combined_df.sort_values(by='Date').reset_index(drop=True)\n",
    "combined_df = combined_df.dropna(subset=['Date'])\n",
    "after = len(combined_df)\n",
    "print(f\"[INFO] Dropped {before - after} rows due to invalid dates.\")"
   ]
  },
  {
   "cell_type": "code",
   "execution_count": 40,
   "id": "a229cd6c",
   "metadata": {},
   "outputs": [
    {
     "name": "stdout",
     "output_type": "stream",
     "text": [
      "Empty DataFrame\n",
      "Columns: [Incident #, Date, Type, Location, Arrested, Location Prefix, DOB, Charges, latitude, longitude, Cleaned Location, person_id, category, Year, crime_severity]\n",
      "Index: []\n"
     ]
    }
   ],
   "source": [
    "print(combined_df[combined_df['Date'].isna()])"
   ]
  },
  {
   "cell_type": "code",
   "execution_count": 41,
   "id": "2be02f71",
   "metadata": {},
   "outputs": [
    {
     "name": "stdout",
     "output_type": "stream",
     "text": [
      "[DONE] Combined dataset saved to: c:\\Users\\Indel\\Documents\\gatewayinitiative-lawrencepd\\scripts\\..\\data\\checkpoints\\checkpoint10_combined_data.csv\n"
     ]
    }
   ],
   "source": [
    "# Save\n",
    "combined_output = os.path.join(cp_file_path, 'checkpoint10_combined_data.csv')\n",
    "combined_df.to_csv(combined_output, index=False)\n",
    "print(f\"[DONE] Combined dataset saved to: {combined_output}\")"
   ]
  }
 ],
 "metadata": {
  "kernelspec": {
   "display_name": "venv",
   "language": "python",
   "name": "python3"
  },
  "language_info": {
   "codemirror_mode": {
    "name": "ipython",
    "version": 3
   },
   "file_extension": ".py",
   "mimetype": "text/x-python",
   "name": "python",
   "nbconvert_exporter": "python",
   "pygments_lexer": "ipython3",
   "version": "3.13.3"
  }
 },
 "nbformat": 4,
 "nbformat_minor": 5
}
