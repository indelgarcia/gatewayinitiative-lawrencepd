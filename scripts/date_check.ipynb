{
 "cells": [
  {
   "cell_type": "code",
   "execution_count": 4,
   "id": "ecf17983",
   "metadata": {},
   "outputs": [
    {
     "name": "stderr",
     "output_type": "stream",
     "text": [
      "C:\\Users\\Indel\\AppData\\Local\\Temp\\ipykernel_26976\\2596002454.py:10: DtypeWarning: Columns (6,7,8,12) have mixed types. Specify dtype option on import or set low_memory=False.\n",
      "  df = pd.read_csv(csv_path)\n"
     ]
    },
    {
     "name": "stdout",
     "output_type": "stream",
     "text": [
      "[INFO] Parsing date column...\n",
      "[INFO] Finding missing dates...\n",
      "[INFO] Writing missing dates to: c:\\Users\\Indel\\Documents\\gatewayinitiative-lawrencepd\\scripts\\missing_dates.txt\n",
      "[DONE] Found 96 missing dates.\n"
     ]
    }
   ],
   "source": [
    "import os\n",
    "import pandas as pd\n",
    "from datetime import datetime, timedelta\n",
    "\n",
    "# Step 1: Get current directory\n",
    "current_dir = os.getcwd()\n",
    "\n",
    "# Step 2: Load the CSV\n",
    "csv_path = os.path.join(current_dir, '..', 'data', 'checkpoints', 'checkpoint9_no_2025.csv')\n",
    "df = pd.read_csv(csv_path)\n",
    "\n",
    "# Step 3: Parse the date column\n",
    "print(\"[INFO] Parsing date column...\")\n",
    "df['Date'] = pd.to_datetime(df['Date'], errors='coerce')\n",
    "df = df.dropna(subset=['Date'])  # Drop rows where the date couldn't be parsed\n",
    "df['Date'] = df['Date'].dt.date\n",
    "\n",
    "# Step 4: Generate all expected dates from 2018 to 2024\n",
    "start_date = datetime(2018, 1, 1).date()\n",
    "end_date = datetime(2024, 12, 31).date()\n",
    "expected_dates = set(start_date + timedelta(days=i) for i in range((end_date - start_date).days + 1))\n",
    "\n",
    "# Step 5: Get actual dates in the dataset\n",
    "actual_dates = set(df['Date'])\n",
    "\n",
    "# Step 6: Find missing dates\n",
    "print(\"[INFO] Finding missing dates...\")\n",
    "missing_dates = sorted(list(expected_dates - actual_dates))\n",
    "\n",
    "# Step 7: Save missing dates to a text file\n",
    "output_file = os.path.join(current_dir, 'missing_dates.txt')\n",
    "print(f\"[INFO] Writing missing dates to: {output_file}\")\n",
    "with open(output_file, 'w') as f:\n",
    "    for date in missing_dates:\n",
    "        f.write(str(date) + '\\n')\n",
    "\n",
    "print(f\"[DONE] Found {len(missing_dates)} missing dates.\")\n"
   ]
  },
  {
   "cell_type": "markdown",
   "id": "4695c870",
   "metadata": {},
   "source": [
    "### After transformation of missing data (md) dataset (md_checkpoint8), combine with most recent checkpoint"
   ]
  },
  {
   "cell_type": "code",
   "execution_count": 18,
   "id": "f52139db",
   "metadata": {},
   "outputs": [],
   "source": [
    "notebook_dir = os.getcwd()"
   ]
  },
  {
   "cell_type": "code",
   "execution_count": 19,
   "id": "5bd9f943",
   "metadata": {},
   "outputs": [],
   "source": [
    "md_file_path = os.path.join(notebook_dir, '..', 'data', 'missing_dates_csv')"
   ]
  },
  {
   "cell_type": "code",
   "execution_count": 20,
   "id": "4e0aec4b",
   "metadata": {},
   "outputs": [],
   "source": [
    "cp_file_path = os.path.join(notebook_dir, '..', 'data', 'checkpoints')"
   ]
  },
  {
   "cell_type": "code",
   "execution_count": 21,
   "id": "1238828f",
   "metadata": {},
   "outputs": [],
   "source": [
    "md_df = pd.read_csv(os.path.join(md_file_path, 'md_checkpoints', 'md_checkpoint8_mass_filtered.csv'))\n",
    "cp_df = pd.read_csv(os.path.join(cp_file_path, 'checkpoint9_no_2025.csv'))"
   ]
  },
  {
   "cell_type": "code",
   "execution_count": 23,
   "id": "941c3e8d",
   "metadata": {},
   "outputs": [],
   "source": [
    "# Combine the dataframes\n",
    "combined_df = pd.concat([cp_df, md_df], ignore_index=True)\n",
    "\n",
    "# Parse and sort by date\n",
    "combined_df['Date'] = pd.to_datetime(combined_df['Date'], errors='coerce')\n",
    "combined_df = combined_df.sort_values(by='Date', ascending=True)\n",
    "\n",
    "# reset index\n",
    "combined_df.reset_index(drop=True, inplace=True)"
   ]
  },
  {
   "cell_type": "code",
   "execution_count": 24,
   "id": "6c61598c",
   "metadata": {},
   "outputs": [
    {
     "name": "stdout",
     "output_type": "stream",
     "text": [
      "[DONE] Combined dataset saved to: c:\\Users\\Indel\\Documents\\gatewayinitiative-lawrencepd\\scripts\\..\\data\\checkpoints\\checkpoint10_combined_data.csv\n"
     ]
    }
   ],
   "source": [
    "# Save\n",
    "combined_output = os.path.join(cp_file_path, 'checkpoint10_combined_data.csv')\n",
    "combined_df.to_csv(combined_output, index=False)\n",
    "print(f\"[DONE] Combined dataset saved to: {combined_output}\")"
   ]
  }
 ],
 "metadata": {
  "kernelspec": {
   "display_name": "venv",
   "language": "python",
   "name": "python3"
  },
  "language_info": {
   "codemirror_mode": {
    "name": "ipython",
    "version": 3
   },
   "file_extension": ".py",
   "mimetype": "text/x-python",
   "name": "python",
   "nbconvert_exporter": "python",
   "pygments_lexer": "ipython3",
   "version": "3.13.3"
  }
 },
 "nbformat": 4,
 "nbformat_minor": 5
}
