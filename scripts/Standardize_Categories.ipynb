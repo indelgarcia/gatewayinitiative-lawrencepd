{
 "cells": [
  {
   "cell_type": "code",
   "execution_count": 3,
   "metadata": {},
   "outputs": [],
   "source": [
    "import pandas as pd"
   ]
  },
  {
   "cell_type": "code",
   "execution_count": 5,
   "metadata": {},
   "outputs": [],
   "source": [
    "df = pd.read_csv(\"../streamlit-app/checkpoint10_combined_data.csv\")"
   ]
  },
  {
   "cell_type": "code",
   "execution_count": 7,
   "metadata": {},
   "outputs": [
    {
     "data": {
      "text/plain": [
       "Index(['Incident #', 'Date', 'Type', 'Location', 'Arrested', 'Location Prefix',\n",
       "       'DOB', 'Charges', 'latitude', 'longitude', 'Cleaned Location',\n",
       "       'person_id', 'category', 'Year', 'crime_severity'],\n",
       "      dtype='object')"
      ]
     },
     "execution_count": 7,
     "metadata": {},
     "output_type": "execute_result"
    }
   ],
   "source": [
    "df.columns"
   ]
  },
  {
   "cell_type": "code",
   "execution_count": 9,
   "metadata": {},
   "outputs": [
    {
     "data": {
      "text/plain": [
       "array(['PUBLIC_DISTURBANCES', 'FIRE_AND_ARSON_INCIDENTS',\n",
       "       'PREVENTIVE_POLICING', 'MEDICAL_AND_WELFARE_ASSISTANCE',\n",
       "       'MOTOR_VEHICLE_INCIDENTS', 'PROPERTY_CRIMES',\n",
       "       'DOMESTIC_DISPUTES_AND_PROTECTION', 'LAW_ENFORCEMENT_OPERATIONS',\n",
       "       'DRUG_AND_SUBSTANCE_USE', 'VIOLENT_AND_WEAPON_OFFENSES',\n",
       "       'SUSPICIOUS_AND_UNUSUAL_ACTIVITY', 'OTHER',\n",
       "       'COURT_AND_ADMIN_PROCEDURES', 'FINANCIAL_CRIMES_AND_FRAUD'],\n",
       "      dtype=object)"
      ]
     },
     "execution_count": 9,
     "metadata": {},
     "output_type": "execute_result"
    }
   ],
   "source": [
    "df['category'].unique()"
   ]
  },
  {
   "cell_type": "code",
   "execution_count": 10,
   "metadata": {},
   "outputs": [],
   "source": [
    "# Your original category names mapped to cleaned names\n",
    "category_map = {\n",
    "    'PUBLIC_DISTURBANCES': 'Public Disturbances',\n",
    "    'FIRE_AND_ARSON_INCIDENTS': 'Fire and Arson Incidents',\n",
    "    'PREVENTIVE_POLICING': 'Preventive Policing',\n",
    "    'MEDICAL_AND_WELFARE_ASSISTANCE': 'Medical and Welfare Assistance',\n",
    "    'MOTOR_VEHICLE_INCIDENTS': 'Motor Vehicle Incidents',\n",
    "    'PROPERTY_CRIMES': 'Property Crimes',\n",
    "    'DOMESTIC_DISPUTES_AND_PROTECTION': 'Domestic Disputes and Protection',\n",
    "    'LAW_ENFORCEMENT_OPERATIONS': 'Law Enforcement Operations',\n",
    "    'DRUG_AND_SUBSTANCE_USE': 'Drug and Substance Use',\n",
    "    'VIOLENT_AND_WEAPON_OFFENSES': 'Violent and Weapon Offenses',\n",
    "    'SUSPICIOUS_AND_UNUSUAL_ACTIVITY': 'Suspicious and Unusual Activity',\n",
    "    'OTHER': 'Other',\n",
    "    'COURT_AND_ADMIN_PROCEDURES': 'Court and Admin Procedures',\n",
    "    'FINANCIAL_CRIMES_AND_FRAUD': 'Financial Crimes and Fraud'\n",
    "}\n",
    "\n",
    "# Assuming your data is in a pandas DataFrame named df with a 'category' column\n",
    "df['category'] = df['category'].map(category_map).fillna(df['category'])\n"
   ]
  },
  {
   "cell_type": "code",
   "execution_count": 12,
   "metadata": {},
   "outputs": [
    {
     "data": {
      "text/plain": [
       "array(['Public Disturbances', 'Fire and Arson Incidents',\n",
       "       'Preventive Policing', 'Medical and Welfare Assistance',\n",
       "       'Motor Vehicle Incidents', 'Property Crimes',\n",
       "       'Domestic Disputes and Protection', 'Law Enforcement Operations',\n",
       "       'Drug and Substance Use', 'Violent and Weapon Offenses',\n",
       "       'Suspicious and Unusual Activity', 'Other',\n",
       "       'Court and Admin Procedures', 'Financial Crimes and Fraud'],\n",
       "      dtype=object)"
      ]
     },
     "execution_count": 12,
     "metadata": {},
     "output_type": "execute_result"
    }
   ],
   "source": [
    "df['category'].unique()"
   ]
  },
  {
   "cell_type": "code",
   "execution_count": 13,
   "metadata": {},
   "outputs": [],
   "source": [
    "df.to_csv('../streamlit-app/checkpoint11_combined_data.csv', index= None)"
   ]
  },
  {
   "cell_type": "code",
   "execution_count": null,
   "metadata": {},
   "outputs": [],
   "source": []
  }
 ],
 "metadata": {
  "kernelspec": {
   "display_name": "py310",
   "language": "python",
   "name": "python3"
  },
  "language_info": {
   "codemirror_mode": {
    "name": "ipython",
    "version": 3
   },
   "file_extension": ".py",
   "mimetype": "text/x-python",
   "name": "python",
   "nbconvert_exporter": "python",
   "pygments_lexer": "ipython3",
   "version": "3.10.0"
  }
 },
 "nbformat": 4,
 "nbformat_minor": 2
}
