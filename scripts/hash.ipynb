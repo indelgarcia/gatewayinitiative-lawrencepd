{
 "cells": [
  {
   "cell_type": "code",
   "execution_count": 9,
   "metadata": {},
   "outputs": [],
   "source": [
    "import pandas as pd\n",
    "import os\n",
    "import numpy as np\n",
    "import hashlib"
   ]
  },
  {
   "cell_type": "code",
   "execution_count": 10,
   "metadata": {},
   "outputs": [],
   "source": [
    "notebook_dir = os.getcwd()\n",
    "\n",
    "checkpoint4_csv_path = os.path.join(notebook_dir, '..', 'data', 'checkpoints', 'checkpoint4_geocoded.csv')\n",
    "checkpoint4 = pd.read_csv(checkpoint4_csv_path)"
   ]
  },
  {
   "cell_type": "code",
   "execution_count": null,
   "metadata": {},
   "outputs": [
    {
     "name": "stdout",
     "output_type": "stream",
     "text": [
      "                        Name         DOB  \\\n",
      "20451       AQUINO , ALFREDO  07/03/1974   \n",
      "20452        SITHOLE , DAVID  01/21/1979   \n",
      "20455         NUNEZ , MARTIN  06/26/2002   \n",
      "20468      MARTINEZ , CARLOS  03/10/1987   \n",
      "20470         TELLEZ , JAIRO  05/27/1994   \n",
      "...                      ...         ...   \n",
      "355494        PROULX , SHAUN  11/17/1985   \n",
      "355542       LOPEZ , MICHAEL  11/22/1992   \n",
      "355858  BETANCOURT , CHERLIE  01/18/1982   \n",
      "356279         HOBBS , SCOTT  03/29/1971   \n",
      "356691        ALSINA , ANGEL  06/25/1963   \n",
      "\n",
      "                                                person_id  \n",
      "20451   20f72481f083d4756c89b98fd499514c5953a8a4c10253...  \n",
      "20452   2d5adb553cad8a22fd72d2e390525997c4963bac1b185e...  \n",
      "20455   41c43f9f4255dee8e2c910e87f2a983e1b13beecf27eac...  \n",
      "20468   6d5fb726029a990cafbca655fc265c2aa034d99d5ef62e...  \n",
      "20470   bf5796a28c5e9c6a388dbc91b93e82176533fab08017c0...  \n",
      "...                                                   ...  \n",
      "355494  973beee58e1bb2c01531205bc042e8ce7ba3890645c044...  \n",
      "355542  a75004247f4be92c3f05bc1b69c65fd7ef0b43fbc002fb...  \n",
      "355858  2b5a792a267d41009a8ba9548c768b516f856d68c32e9c...  \n",
      "356279  b803b85303054667d7c0a14d3825b50d674051a47017e5...  \n",
      "356691  ebd106f1e7211a2bc3c79a262cc359b8f91264b613c741...  \n",
      "\n",
      "[3993 rows x 3 columns]\n"
     ]
    }
   ],
   "source": [
    "# Define a function to generate a hashed ID\n",
    "# Safe function to generate hashed ID\n",
    "def generate_id(name, dob):\n",
    "    if pd.isna(name) or pd.isna(dob):\n",
    "        return ''\n",
    "    combined = f\"{str(name).strip()}_{str(dob).strip()}\"\n",
    "    return hashlib.sha256(combined.encode()).hexdigest()\n",
    "\n",
    "# Apply the function only when 'Charges' exists\n",
    "checkpoint4['person_id'] = checkpoint4.apply(\n",
    "    lambda row: generate_id(row['Name'], row['DOB']) if pd.notna(row['Charges']) and str(row['Charges']).strip() != '' else '',\n",
    "    axis=1\n",
    ")\n",
    "\n",
    "# Show the updated DataFrame\n",
    "print(checkpoint4[checkpoint4['Name'].notna()][['Name', 'DOB', 'person_id']])\n",
    "\n",
    "output_path = os.path.join(notebook_dir, '..', 'data', 'checkpoints', 'checkpoint5_hashed.csv')\n",
    "checkpoint4.to_csv(output_path, index=False)"
   ]
  }
 ],
 "metadata": {
  "kernelspec": {
   "display_name": "venv",
   "language": "python",
   "name": "python3"
  },
  "language_info": {
   "codemirror_mode": {
    "name": "ipython",
    "version": 3
   },
   "file_extension": ".py",
   "mimetype": "text/x-python",
   "name": "python",
   "nbconvert_exporter": "python",
   "pygments_lexer": "ipython3",
   "version": "3.13.1"
  }
 },
 "nbformat": 4,
 "nbformat_minor": 2
}
