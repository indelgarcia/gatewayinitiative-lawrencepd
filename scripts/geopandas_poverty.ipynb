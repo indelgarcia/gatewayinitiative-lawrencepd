{
 "cells": [
  {
   "cell_type": "code",
   "execution_count": 14,
   "metadata": {},
   "outputs": [],
   "source": [
    "import matplotlib.pyplot as plt\n",
    "import pandas as pd\n",
    "import geopandas as gpd\n",
    "import os"
   ]
  },
  {
   "cell_type": "code",
   "execution_count": 15,
   "metadata": {},
   "outputs": [],
   "source": [
    "notebook_dir = os.getcwd()"
   ]
  },
  {
   "cell_type": "code",
   "execution_count": 19,
   "metadata": {},
   "outputs": [],
   "source": [
    "poverty_path = os.path.join(notebook_dir, '..', 'data', 'secondary_data', '2023_Poverty.csv')\n",
    "map_path = os.path.join(notebook_dir, '..', 'data', 'secondary_data', 'tl_2024_25_tract','tl_2024_25_tract.shp')"
   ]
  },
  {
   "cell_type": "code",
   "execution_count": 20,
   "metadata": {},
   "outputs": [],
   "source": [
    "# Replace with your GeoJSON file path\n",
    "\n",
    "poverty_df = pd.read_csv(poverty_path)\n",
    "map = gpd.read_file(map_path)"
   ]
  },
  {
   "cell_type": "code",
   "execution_count": 22,
   "metadata": {},
   "outputs": [],
   "source": [
    "poverty_df = poverty_df[:1]"
   ]
  },
  {
   "cell_type": "code",
   "execution_count": 24,
   "metadata": {},
   "outputs": [],
   "source": [
    "cols = poverty_df.columns.tolist()"
   ]
  },
  {
   "cell_type": "code",
   "execution_count": 25,
   "metadata": {},
   "outputs": [],
   "source": [
    "tracts = [col.split(';')[0].strip() for col in cols]"
   ]
  },
  {
   "cell_type": "code",
   "execution_count": 28,
   "metadata": {},
   "outputs": [
    {
     "data": {
      "text/plain": [
       "39"
      ]
     },
     "execution_count": 28,
     "metadata": {},
     "output_type": "execute_result"
    }
   ],
   "source": [
    "len(tracts)"
   ]
  },
  {
   "cell_type": "code",
   "execution_count": 29,
   "metadata": {},
   "outputs": [],
   "source": [
    "tracts = []\n",
    "for col in cols:\n",
    "    # print(col.split(';')[0].strip())\n",
    "    if len(col.split(';')) == 3:\n",
    "        tracts.append(col.split(';')[0].strip()+ ' '+ col.split(';')[2].split('!!')[-1])\n",
    "    else:\n",
    "        tracts.append(col.split(';')[0].strip())"
   ]
  },
  {
   "cell_type": "code",
   "execution_count": 8,
   "metadata": {},
   "outputs": [
    {
     "data": {
      "text/plain": [
       "39"
      ]
     },
     "execution_count": 8,
     "metadata": {},
     "output_type": "execute_result"
    }
   ],
   "source": [
    "len(tracts)"
   ]
  },
  {
   "cell_type": "code",
   "execution_count": 31,
   "metadata": {},
   "outputs": [],
   "source": [
    "poverty_df.columns = tracts"
   ]
  },
  {
   "cell_type": "code",
   "execution_count": 32,
   "metadata": {},
   "outputs": [],
   "source": [
    "poverty_df = poverty_df.T.reset_index()"
   ]
  },
  {
   "cell_type": "code",
   "execution_count": 33,
   "metadata": {},
   "outputs": [
    {
     "data": {
      "text/plain": [
       "array([np.int64(0), 'Label (Grouping)',\n",
       "       'Population for whom poverty status is determined'], dtype=object)"
      ]
     },
     "execution_count": 33,
     "metadata": {},
     "output_type": "execute_result"
    }
   ],
   "source": [
    "poverty_df.reset_index().iloc[0].values"
   ]
  },
  {
   "cell_type": "code",
   "execution_count": 34,
   "metadata": {},
   "outputs": [],
   "source": [
    "poverty_df = poverty_df[1:]"
   ]
  },
  {
   "cell_type": "code",
   "execution_count": 35,
   "metadata": {},
   "outputs": [
    {
     "data": {
      "text/html": [
       "<div>\n",
       "<style scoped>\n",
       "    .dataframe tbody tr th:only-of-type {\n",
       "        vertical-align: middle;\n",
       "    }\n",
       "\n",
       "    .dataframe tbody tr th {\n",
       "        vertical-align: top;\n",
       "    }\n",
       "\n",
       "    .dataframe thead th {\n",
       "        text-align: right;\n",
       "    }\n",
       "</style>\n",
       "<table border=\"1\" class=\"dataframe\">\n",
       "  <thead>\n",
       "    <tr style=\"text-align: right;\">\n",
       "      <th></th>\n",
       "      <th>STATEFP</th>\n",
       "      <th>COUNTYFP</th>\n",
       "      <th>TRACTCE</th>\n",
       "      <th>GEOID</th>\n",
       "      <th>GEOIDFQ</th>\n",
       "      <th>NAME</th>\n",
       "      <th>NAMELSAD</th>\n",
       "      <th>MTFCC</th>\n",
       "      <th>FUNCSTAT</th>\n",
       "      <th>ALAND</th>\n",
       "      <th>AWATER</th>\n",
       "      <th>INTPTLAT</th>\n",
       "      <th>INTPTLON</th>\n",
       "      <th>geometry</th>\n",
       "    </tr>\n",
       "  </thead>\n",
       "  <tbody>\n",
       "    <tr>\n",
       "      <th>0</th>\n",
       "      <td>25</td>\n",
       "      <td>017</td>\n",
       "      <td>336202</td>\n",
       "      <td>25017336202</td>\n",
       "      <td>1400000US25017336202</td>\n",
       "      <td>3362.02</td>\n",
       "      <td>Census Tract 3362.02</td>\n",
       "      <td>G5020</td>\n",
       "      <td>S</td>\n",
       "      <td>1057126</td>\n",
       "      <td>0</td>\n",
       "      <td>+42.4612832</td>\n",
       "      <td>-071.0549338</td>\n",
       "      <td>POLYGON ((-71.06467 42.45615, -71.06396 42.457...</td>\n",
       "    </tr>\n",
       "    <tr>\n",
       "      <th>1</th>\n",
       "      <td>25</td>\n",
       "      <td>017</td>\n",
       "      <td>330102</td>\n",
       "      <td>25017330102</td>\n",
       "      <td>1400000US25017330102</td>\n",
       "      <td>3301.02</td>\n",
       "      <td>Census Tract 3301.02</td>\n",
       "      <td>G5020</td>\n",
       "      <td>S</td>\n",
       "      <td>9782616</td>\n",
       "      <td>68833</td>\n",
       "      <td>+42.5784007</td>\n",
       "      <td>-071.0844481</td>\n",
       "      <td>POLYGON ((-71.111 42.6011, -71.111 42.60116, -...</td>\n",
       "    </tr>\n",
       "    <tr>\n",
       "      <th>2</th>\n",
       "      <td>25</td>\n",
       "      <td>017</td>\n",
       "      <td>339101</td>\n",
       "      <td>25017339101</td>\n",
       "      <td>1400000US25017339101</td>\n",
       "      <td>3391.01</td>\n",
       "      <td>Census Tract 3391.01</td>\n",
       "      <td>G5020</td>\n",
       "      <td>S</td>\n",
       "      <td>875342</td>\n",
       "      <td>15666</td>\n",
       "      <td>+42.4203623</td>\n",
       "      <td>-071.1105792</td>\n",
       "      <td>POLYGON ((-71.11831 42.42477, -71.11742 42.424...</td>\n",
       "    </tr>\n",
       "    <tr>\n",
       "      <th>3</th>\n",
       "      <td>25</td>\n",
       "      <td>017</td>\n",
       "      <td>356703</td>\n",
       "      <td>25017356703</td>\n",
       "      <td>1400000US25017356703</td>\n",
       "      <td>3567.03</td>\n",
       "      <td>Census Tract 3567.03</td>\n",
       "      <td>G5020</td>\n",
       "      <td>S</td>\n",
       "      <td>1106008</td>\n",
       "      <td>404985</td>\n",
       "      <td>+42.4095378</td>\n",
       "      <td>-071.1574723</td>\n",
       "      <td>POLYGON ((-71.16711 42.40784, -71.16713 42.408...</td>\n",
       "    </tr>\n",
       "    <tr>\n",
       "      <th>4</th>\n",
       "      <td>25</td>\n",
       "      <td>017</td>\n",
       "      <td>330202</td>\n",
       "      <td>25017330202</td>\n",
       "      <td>1400000US25017330202</td>\n",
       "      <td>3302.02</td>\n",
       "      <td>Census Tract 3302.02</td>\n",
       "      <td>G5020</td>\n",
       "      <td>S</td>\n",
       "      <td>7276186</td>\n",
       "      <td>446272</td>\n",
       "      <td>+42.5753419</td>\n",
       "      <td>-071.1260542</td>\n",
       "      <td>POLYGON ((-71.13674 42.55346, -71.13607 42.556...</td>\n",
       "    </tr>\n",
       "  </tbody>\n",
       "</table>\n",
       "</div>"
      ],
      "text/plain": [
       "  STATEFP COUNTYFP TRACTCE        GEOID               GEOIDFQ     NAME  \\\n",
       "0      25      017  336202  25017336202  1400000US25017336202  3362.02   \n",
       "1      25      017  330102  25017330102  1400000US25017330102  3301.02   \n",
       "2      25      017  339101  25017339101  1400000US25017339101  3391.01   \n",
       "3      25      017  356703  25017356703  1400000US25017356703  3567.03   \n",
       "4      25      017  330202  25017330202  1400000US25017330202  3302.02   \n",
       "\n",
       "               NAMELSAD  MTFCC FUNCSTAT    ALAND  AWATER     INTPTLAT  \\\n",
       "0  Census Tract 3362.02  G5020        S  1057126       0  +42.4612832   \n",
       "1  Census Tract 3301.02  G5020        S  9782616   68833  +42.5784007   \n",
       "2  Census Tract 3391.01  G5020        S   875342   15666  +42.4203623   \n",
       "3  Census Tract 3567.03  G5020        S  1106008  404985  +42.4095378   \n",
       "4  Census Tract 3302.02  G5020        S  7276186  446272  +42.5753419   \n",
       "\n",
       "       INTPTLON                                           geometry  \n",
       "0  -071.0549338  POLYGON ((-71.06467 42.45615, -71.06396 42.457...  \n",
       "1  -071.0844481  POLYGON ((-71.111 42.6011, -71.111 42.60116, -...  \n",
       "2  -071.1105792  POLYGON ((-71.11831 42.42477, -71.11742 42.424...  \n",
       "3  -071.1574723  POLYGON ((-71.16711 42.40784, -71.16713 42.408...  \n",
       "4  -071.1260542  POLYGON ((-71.13674 42.55346, -71.13607 42.556...  "
      ]
     },
     "execution_count": 35,
     "metadata": {},
     "output_type": "execute_result"
    }
   ],
   "source": [
    "map.head()"
   ]
  },
  {
   "cell_type": "code",
   "execution_count": 36,
   "metadata": {},
   "outputs": [],
   "source": [
    "poverty_df.columns = ['label', 'value']"
   ]
  },
  {
   "cell_type": "code",
   "execution_count": 37,
   "metadata": {},
   "outputs": [],
   "source": [
    "poverty_df['tract'] = poverty_df['label'].str.extract(r'(Census Tract \\d+)')\n",
    "poverty_df['type'] = poverty_df['label'].str.extract(r'(Estimate|Margin of Error)')\n",
    "\n",
    "# Pivot to wide format\n",
    "poverty_wide = poverty_df.pivot(index='tract', columns='type', values='value').reset_index()\n",
    "\n",
    "# Clean up numbers (remove commas, ±, etc.)\n",
    "poverty_wide['Estimate'] = poverty_wide['Estimate'].str.replace(',', '').astype(float)\n",
    "poverty_wide['Margin of Error'] = poverty_wide['Margin of Error'].str.replace('±', '').str.replace(',', '').astype(float)"
   ]
  },
  {
   "cell_type": "code",
   "execution_count": 38,
   "metadata": {},
   "outputs": [
    {
     "data": {
      "text/html": [
       "<div>\n",
       "<style scoped>\n",
       "    .dataframe tbody tr th:only-of-type {\n",
       "        vertical-align: middle;\n",
       "    }\n",
       "\n",
       "    .dataframe tbody tr th {\n",
       "        vertical-align: top;\n",
       "    }\n",
       "\n",
       "    .dataframe thead th {\n",
       "        text-align: right;\n",
       "    }\n",
       "</style>\n",
       "<table border=\"1\" class=\"dataframe\">\n",
       "  <thead>\n",
       "    <tr style=\"text-align: right;\">\n",
       "      <th>type</th>\n",
       "      <th>tract</th>\n",
       "      <th>Estimate</th>\n",
       "      <th>Margin of Error</th>\n",
       "    </tr>\n",
       "  </thead>\n",
       "  <tbody>\n",
       "    <tr>\n",
       "      <th>0</th>\n",
       "      <td>NaN</td>\n",
       "      <td>87280.0</td>\n",
       "      <td>267.0</td>\n",
       "    </tr>\n",
       "    <tr>\n",
       "      <th>1</th>\n",
       "      <td>Census Tract 2501</td>\n",
       "      <td>4027.0</td>\n",
       "      <td>489.0</td>\n",
       "    </tr>\n",
       "    <tr>\n",
       "      <th>2</th>\n",
       "      <td>Census Tract 2502</td>\n",
       "      <td>6855.0</td>\n",
       "      <td>1210.0</td>\n",
       "    </tr>\n",
       "    <tr>\n",
       "      <th>3</th>\n",
       "      <td>Census Tract 2503</td>\n",
       "      <td>2684.0</td>\n",
       "      <td>494.0</td>\n",
       "    </tr>\n",
       "    <tr>\n",
       "      <th>4</th>\n",
       "      <td>Census Tract 2504</td>\n",
       "      <td>4411.0</td>\n",
       "      <td>696.0</td>\n",
       "    </tr>\n",
       "    <tr>\n",
       "      <th>5</th>\n",
       "      <td>Census Tract 2505</td>\n",
       "      <td>4450.0</td>\n",
       "      <td>729.0</td>\n",
       "    </tr>\n",
       "    <tr>\n",
       "      <th>6</th>\n",
       "      <td>Census Tract 2506</td>\n",
       "      <td>5910.0</td>\n",
       "      <td>803.0</td>\n",
       "    </tr>\n",
       "    <tr>\n",
       "      <th>7</th>\n",
       "      <td>Census Tract 2507</td>\n",
       "      <td>5379.0</td>\n",
       "      <td>711.0</td>\n",
       "    </tr>\n",
       "    <tr>\n",
       "      <th>8</th>\n",
       "      <td>Census Tract 2508</td>\n",
       "      <td>8208.0</td>\n",
       "      <td>887.0</td>\n",
       "    </tr>\n",
       "    <tr>\n",
       "      <th>9</th>\n",
       "      <td>Census Tract 2509</td>\n",
       "      <td>2249.0</td>\n",
       "      <td>476.0</td>\n",
       "    </tr>\n",
       "    <tr>\n",
       "      <th>10</th>\n",
       "      <td>Census Tract 2510</td>\n",
       "      <td>1750.0</td>\n",
       "      <td>281.0</td>\n",
       "    </tr>\n",
       "    <tr>\n",
       "      <th>11</th>\n",
       "      <td>Census Tract 2511</td>\n",
       "      <td>2625.0</td>\n",
       "      <td>450.0</td>\n",
       "    </tr>\n",
       "    <tr>\n",
       "      <th>12</th>\n",
       "      <td>Census Tract 2512</td>\n",
       "      <td>1467.0</td>\n",
       "      <td>233.0</td>\n",
       "    </tr>\n",
       "    <tr>\n",
       "      <th>13</th>\n",
       "      <td>Census Tract 2513</td>\n",
       "      <td>3565.0</td>\n",
       "      <td>778.0</td>\n",
       "    </tr>\n",
       "    <tr>\n",
       "      <th>14</th>\n",
       "      <td>Census Tract 2514</td>\n",
       "      <td>5479.0</td>\n",
       "      <td>882.0</td>\n",
       "    </tr>\n",
       "    <tr>\n",
       "      <th>15</th>\n",
       "      <td>Census Tract 2515</td>\n",
       "      <td>7525.0</td>\n",
       "      <td>866.0</td>\n",
       "    </tr>\n",
       "    <tr>\n",
       "      <th>16</th>\n",
       "      <td>Census Tract 2516</td>\n",
       "      <td>6989.0</td>\n",
       "      <td>983.0</td>\n",
       "    </tr>\n",
       "    <tr>\n",
       "      <th>17</th>\n",
       "      <td>Census Tract 2517</td>\n",
       "      <td>5664.0</td>\n",
       "      <td>739.0</td>\n",
       "    </tr>\n",
       "    <tr>\n",
       "      <th>18</th>\n",
       "      <td>Census Tract 2518</td>\n",
       "      <td>8043.0</td>\n",
       "      <td>952.0</td>\n",
       "    </tr>\n",
       "  </tbody>\n",
       "</table>\n",
       "</div>"
      ],
      "text/plain": [
       "type              tract  Estimate  Margin of Error\n",
       "0                   NaN   87280.0            267.0\n",
       "1     Census Tract 2501    4027.0            489.0\n",
       "2     Census Tract 2502    6855.0           1210.0\n",
       "3     Census Tract 2503    2684.0            494.0\n",
       "4     Census Tract 2504    4411.0            696.0\n",
       "5     Census Tract 2505    4450.0            729.0\n",
       "6     Census Tract 2506    5910.0            803.0\n",
       "7     Census Tract 2507    5379.0            711.0\n",
       "8     Census Tract 2508    8208.0            887.0\n",
       "9     Census Tract 2509    2249.0            476.0\n",
       "10    Census Tract 2510    1750.0            281.0\n",
       "11    Census Tract 2511    2625.0            450.0\n",
       "12    Census Tract 2512    1467.0            233.0\n",
       "13    Census Tract 2513    3565.0            778.0\n",
       "14    Census Tract 2514    5479.0            882.0\n",
       "15    Census Tract 2515    7525.0            866.0\n",
       "16    Census Tract 2516    6989.0            983.0\n",
       "17    Census Tract 2517    5664.0            739.0\n",
       "18    Census Tract 2518    8043.0            952.0"
      ]
     },
     "execution_count": 38,
     "metadata": {},
     "output_type": "execute_result"
    }
   ],
   "source": [
    "poverty_wide"
   ]
  },
  {
   "cell_type": "code",
   "execution_count": 39,
   "metadata": {},
   "outputs": [
    {
     "data": {
      "text/html": [
       "<div>\n",
       "<style scoped>\n",
       "    .dataframe tbody tr th:only-of-type {\n",
       "        vertical-align: middle;\n",
       "    }\n",
       "\n",
       "    .dataframe tbody tr th {\n",
       "        vertical-align: top;\n",
       "    }\n",
       "\n",
       "    .dataframe thead th {\n",
       "        text-align: right;\n",
       "    }\n",
       "</style>\n",
       "<table border=\"1\" class=\"dataframe\">\n",
       "  <thead>\n",
       "    <tr style=\"text-align: right;\">\n",
       "      <th></th>\n",
       "      <th>STATEFP</th>\n",
       "      <th>COUNTYFP</th>\n",
       "      <th>TRACTCE</th>\n",
       "      <th>GEOID</th>\n",
       "      <th>GEOIDFQ</th>\n",
       "      <th>NAME</th>\n",
       "      <th>NAMELSAD</th>\n",
       "      <th>MTFCC</th>\n",
       "      <th>FUNCSTAT</th>\n",
       "      <th>ALAND</th>\n",
       "      <th>AWATER</th>\n",
       "      <th>INTPTLAT</th>\n",
       "      <th>INTPTLON</th>\n",
       "      <th>geometry</th>\n",
       "    </tr>\n",
       "  </thead>\n",
       "  <tbody>\n",
       "    <tr>\n",
       "      <th>0</th>\n",
       "      <td>25</td>\n",
       "      <td>017</td>\n",
       "      <td>336202</td>\n",
       "      <td>25017336202</td>\n",
       "      <td>1400000US25017336202</td>\n",
       "      <td>3362.02</td>\n",
       "      <td>Census Tract 3362.02</td>\n",
       "      <td>G5020</td>\n",
       "      <td>S</td>\n",
       "      <td>1057126</td>\n",
       "      <td>0</td>\n",
       "      <td>+42.4612832</td>\n",
       "      <td>-071.0549338</td>\n",
       "      <td>POLYGON ((-71.06467 42.45615, -71.06396 42.457...</td>\n",
       "    </tr>\n",
       "    <tr>\n",
       "      <th>1</th>\n",
       "      <td>25</td>\n",
       "      <td>017</td>\n",
       "      <td>330102</td>\n",
       "      <td>25017330102</td>\n",
       "      <td>1400000US25017330102</td>\n",
       "      <td>3301.02</td>\n",
       "      <td>Census Tract 3301.02</td>\n",
       "      <td>G5020</td>\n",
       "      <td>S</td>\n",
       "      <td>9782616</td>\n",
       "      <td>68833</td>\n",
       "      <td>+42.5784007</td>\n",
       "      <td>-071.0844481</td>\n",
       "      <td>POLYGON ((-71.111 42.6011, -71.111 42.60116, -...</td>\n",
       "    </tr>\n",
       "    <tr>\n",
       "      <th>2</th>\n",
       "      <td>25</td>\n",
       "      <td>017</td>\n",
       "      <td>339101</td>\n",
       "      <td>25017339101</td>\n",
       "      <td>1400000US25017339101</td>\n",
       "      <td>3391.01</td>\n",
       "      <td>Census Tract 3391.01</td>\n",
       "      <td>G5020</td>\n",
       "      <td>S</td>\n",
       "      <td>875342</td>\n",
       "      <td>15666</td>\n",
       "      <td>+42.4203623</td>\n",
       "      <td>-071.1105792</td>\n",
       "      <td>POLYGON ((-71.11831 42.42477, -71.11742 42.424...</td>\n",
       "    </tr>\n",
       "    <tr>\n",
       "      <th>3</th>\n",
       "      <td>25</td>\n",
       "      <td>017</td>\n",
       "      <td>356703</td>\n",
       "      <td>25017356703</td>\n",
       "      <td>1400000US25017356703</td>\n",
       "      <td>3567.03</td>\n",
       "      <td>Census Tract 3567.03</td>\n",
       "      <td>G5020</td>\n",
       "      <td>S</td>\n",
       "      <td>1106008</td>\n",
       "      <td>404985</td>\n",
       "      <td>+42.4095378</td>\n",
       "      <td>-071.1574723</td>\n",
       "      <td>POLYGON ((-71.16711 42.40784, -71.16713 42.408...</td>\n",
       "    </tr>\n",
       "    <tr>\n",
       "      <th>4</th>\n",
       "      <td>25</td>\n",
       "      <td>017</td>\n",
       "      <td>330202</td>\n",
       "      <td>25017330202</td>\n",
       "      <td>1400000US25017330202</td>\n",
       "      <td>3302.02</td>\n",
       "      <td>Census Tract 3302.02</td>\n",
       "      <td>G5020</td>\n",
       "      <td>S</td>\n",
       "      <td>7276186</td>\n",
       "      <td>446272</td>\n",
       "      <td>+42.5753419</td>\n",
       "      <td>-071.1260542</td>\n",
       "      <td>POLYGON ((-71.13674 42.55346, -71.13607 42.556...</td>\n",
       "    </tr>\n",
       "  </tbody>\n",
       "</table>\n",
       "</div>"
      ],
      "text/plain": [
       "  STATEFP COUNTYFP TRACTCE        GEOID               GEOIDFQ     NAME  \\\n",
       "0      25      017  336202  25017336202  1400000US25017336202  3362.02   \n",
       "1      25      017  330102  25017330102  1400000US25017330102  3301.02   \n",
       "2      25      017  339101  25017339101  1400000US25017339101  3391.01   \n",
       "3      25      017  356703  25017356703  1400000US25017356703  3567.03   \n",
       "4      25      017  330202  25017330202  1400000US25017330202  3302.02   \n",
       "\n",
       "               NAMELSAD  MTFCC FUNCSTAT    ALAND  AWATER     INTPTLAT  \\\n",
       "0  Census Tract 3362.02  G5020        S  1057126       0  +42.4612832   \n",
       "1  Census Tract 3301.02  G5020        S  9782616   68833  +42.5784007   \n",
       "2  Census Tract 3391.01  G5020        S   875342   15666  +42.4203623   \n",
       "3  Census Tract 3567.03  G5020        S  1106008  404985  +42.4095378   \n",
       "4  Census Tract 3302.02  G5020        S  7276186  446272  +42.5753419   \n",
       "\n",
       "       INTPTLON                                           geometry  \n",
       "0  -071.0549338  POLYGON ((-71.06467 42.45615, -71.06396 42.457...  \n",
       "1  -071.0844481  POLYGON ((-71.111 42.6011, -71.111 42.60116, -...  \n",
       "2  -071.1105792  POLYGON ((-71.11831 42.42477, -71.11742 42.424...  \n",
       "3  -071.1574723  POLYGON ((-71.16711 42.40784, -71.16713 42.408...  \n",
       "4  -071.1260542  POLYGON ((-71.13674 42.55346, -71.13607 42.556...  "
      ]
     },
     "execution_count": 39,
     "metadata": {},
     "output_type": "execute_result"
    }
   ],
   "source": [
    "map.head()"
   ]
  },
  {
   "cell_type": "code",
   "execution_count": 40,
   "metadata": {},
   "outputs": [],
   "source": [
    "map['NAME'] = map['NAME'].astype(str).str.split('.').str[0]\n"
   ]
  },
  {
   "cell_type": "code",
   "execution_count": 41,
   "metadata": {},
   "outputs": [],
   "source": [
    "map['NAME'] = 'Census Tract ' + map['NAME']"
   ]
  },
  {
   "cell_type": "code",
   "execution_count": 42,
   "metadata": {},
   "outputs": [
    {
     "data": {
      "text/plain": [
       "0       Census Tract 3362\n",
       "1       Census Tract 3301\n",
       "2       Census Tract 3391\n",
       "3       Census Tract 3567\n",
       "4       Census Tract 3302\n",
       "              ...        \n",
       "1615     Census Tract 708\n",
       "1616     Census Tract 612\n",
       "1617     Census Tract 708\n",
       "1618     Census Tract 606\n",
       "1619     Census Tract 709\n",
       "Name: NAME, Length: 1620, dtype: object"
      ]
     },
     "execution_count": 42,
     "metadata": {},
     "output_type": "execute_result"
    }
   ],
   "source": [
    "map['NAME']"
   ]
  },
  {
   "cell_type": "code",
   "execution_count": 43,
   "metadata": {},
   "outputs": [],
   "source": [
    "merged_gdf = pd.merge(poverty_wide, map, left_on='tract', right_on='NAME', how='left')"
   ]
  },
  {
   "cell_type": "code",
   "execution_count": 44,
   "metadata": {},
   "outputs": [],
   "source": [
    "merged_gdf = merged_gdf[1:]"
   ]
  },
  {
   "cell_type": "code",
   "execution_count": 45,
   "metadata": {},
   "outputs": [
    {
     "data": {
      "text/html": [
       "<div>\n",
       "<style scoped>\n",
       "    .dataframe tbody tr th:only-of-type {\n",
       "        vertical-align: middle;\n",
       "    }\n",
       "\n",
       "    .dataframe tbody tr th {\n",
       "        vertical-align: top;\n",
       "    }\n",
       "\n",
       "    .dataframe thead th {\n",
       "        text-align: right;\n",
       "    }\n",
       "</style>\n",
       "<table border=\"1\" class=\"dataframe\">\n",
       "  <thead>\n",
       "    <tr style=\"text-align: right;\">\n",
       "      <th></th>\n",
       "      <th>tract</th>\n",
       "      <th>Estimate</th>\n",
       "      <th>Margin of Error</th>\n",
       "      <th>STATEFP</th>\n",
       "      <th>COUNTYFP</th>\n",
       "      <th>TRACTCE</th>\n",
       "      <th>GEOID</th>\n",
       "      <th>GEOIDFQ</th>\n",
       "      <th>NAME</th>\n",
       "      <th>NAMELSAD</th>\n",
       "      <th>MTFCC</th>\n",
       "      <th>FUNCSTAT</th>\n",
       "      <th>ALAND</th>\n",
       "      <th>AWATER</th>\n",
       "      <th>INTPTLAT</th>\n",
       "      <th>INTPTLON</th>\n",
       "      <th>geometry</th>\n",
       "    </tr>\n",
       "  </thead>\n",
       "  <tbody>\n",
       "    <tr>\n",
       "      <th>1</th>\n",
       "      <td>Census Tract 2501</td>\n",
       "      <td>4027.0</td>\n",
       "      <td>489.0</td>\n",
       "      <td>25</td>\n",
       "      <td>009</td>\n",
       "      <td>250100</td>\n",
       "      <td>25009250100</td>\n",
       "      <td>1400000US25009250100</td>\n",
       "      <td>Census Tract 2501</td>\n",
       "      <td>Census Tract 2501</td>\n",
       "      <td>G5020</td>\n",
       "      <td>S</td>\n",
       "      <td>852256.0</td>\n",
       "      <td>198746.0</td>\n",
       "      <td>+42.7054006</td>\n",
       "      <td>-071.1581972</td>\n",
       "      <td>POLYGON ((-71.16964 42.70664, -71.16917 42.706...</td>\n",
       "    </tr>\n",
       "    <tr>\n",
       "      <th>2</th>\n",
       "      <td>Census Tract 2502</td>\n",
       "      <td>6855.0</td>\n",
       "      <td>1210.0</td>\n",
       "      <td>25</td>\n",
       "      <td>009</td>\n",
       "      <td>250200</td>\n",
       "      <td>25009250200</td>\n",
       "      <td>1400000US25009250200</td>\n",
       "      <td>Census Tract 2502</td>\n",
       "      <td>Census Tract 2502</td>\n",
       "      <td>G5020</td>\n",
       "      <td>S</td>\n",
       "      <td>1456654.0</td>\n",
       "      <td>21771.0</td>\n",
       "      <td>+42.7062117</td>\n",
       "      <td>-071.1839672</td>\n",
       "      <td>POLYGON ((-71.19121 42.71057, -71.19092 42.710...</td>\n",
       "    </tr>\n",
       "    <tr>\n",
       "      <th>3</th>\n",
       "      <td>Census Tract 2503</td>\n",
       "      <td>2684.0</td>\n",
       "      <td>494.0</td>\n",
       "      <td>25</td>\n",
       "      <td>009</td>\n",
       "      <td>250300</td>\n",
       "      <td>25009250300</td>\n",
       "      <td>1400000US25009250300</td>\n",
       "      <td>Census Tract 2503</td>\n",
       "      <td>Census Tract 2503</td>\n",
       "      <td>G5020</td>\n",
       "      <td>S</td>\n",
       "      <td>500275.0</td>\n",
       "      <td>21867.0</td>\n",
       "      <td>+42.7122643</td>\n",
       "      <td>-071.1779023</td>\n",
       "      <td>POLYGON ((-71.18359 42.71505, -71.18314 42.715...</td>\n",
       "    </tr>\n",
       "    <tr>\n",
       "      <th>4</th>\n",
       "      <td>Census Tract 2504</td>\n",
       "      <td>4411.0</td>\n",
       "      <td>696.0</td>\n",
       "      <td>25</td>\n",
       "      <td>009</td>\n",
       "      <td>250400</td>\n",
       "      <td>25009250400</td>\n",
       "      <td>1400000US25009250400</td>\n",
       "      <td>Census Tract 2504</td>\n",
       "      <td>Census Tract 2504</td>\n",
       "      <td>G5020</td>\n",
       "      <td>S</td>\n",
       "      <td>322704.0</td>\n",
       "      <td>5102.0</td>\n",
       "      <td>+42.7170924</td>\n",
       "      <td>-071.1743747</td>\n",
       "      <td>POLYGON ((-71.17883 42.71786, -71.17673 42.719...</td>\n",
       "    </tr>\n",
       "    <tr>\n",
       "      <th>5</th>\n",
       "      <td>Census Tract 2505</td>\n",
       "      <td>4450.0</td>\n",
       "      <td>729.0</td>\n",
       "      <td>25</td>\n",
       "      <td>009</td>\n",
       "      <td>250500</td>\n",
       "      <td>25009250500</td>\n",
       "      <td>1400000US25009250500</td>\n",
       "      <td>Census Tract 2505</td>\n",
       "      <td>Census Tract 2505</td>\n",
       "      <td>G5020</td>\n",
       "      <td>S</td>\n",
       "      <td>300558.0</td>\n",
       "      <td>3894.0</td>\n",
       "      <td>+42.7169313</td>\n",
       "      <td>-071.1693673</td>\n",
       "      <td>POLYGON ((-71.17166 42.72127, -71.1709 42.7208...</td>\n",
       "    </tr>\n",
       "  </tbody>\n",
       "</table>\n",
       "</div>"
      ],
      "text/plain": [
       "               tract  Estimate  Margin of Error STATEFP COUNTYFP TRACTCE  \\\n",
       "1  Census Tract 2501    4027.0            489.0      25      009  250100   \n",
       "2  Census Tract 2502    6855.0           1210.0      25      009  250200   \n",
       "3  Census Tract 2503    2684.0            494.0      25      009  250300   \n",
       "4  Census Tract 2504    4411.0            696.0      25      009  250400   \n",
       "5  Census Tract 2505    4450.0            729.0      25      009  250500   \n",
       "\n",
       "         GEOID               GEOIDFQ               NAME           NAMELSAD  \\\n",
       "1  25009250100  1400000US25009250100  Census Tract 2501  Census Tract 2501   \n",
       "2  25009250200  1400000US25009250200  Census Tract 2502  Census Tract 2502   \n",
       "3  25009250300  1400000US25009250300  Census Tract 2503  Census Tract 2503   \n",
       "4  25009250400  1400000US25009250400  Census Tract 2504  Census Tract 2504   \n",
       "5  25009250500  1400000US25009250500  Census Tract 2505  Census Tract 2505   \n",
       "\n",
       "   MTFCC FUNCSTAT      ALAND    AWATER     INTPTLAT      INTPTLON  \\\n",
       "1  G5020        S   852256.0  198746.0  +42.7054006  -071.1581972   \n",
       "2  G5020        S  1456654.0   21771.0  +42.7062117  -071.1839672   \n",
       "3  G5020        S   500275.0   21867.0  +42.7122643  -071.1779023   \n",
       "4  G5020        S   322704.0    5102.0  +42.7170924  -071.1743747   \n",
       "5  G5020        S   300558.0    3894.0  +42.7169313  -071.1693673   \n",
       "\n",
       "                                            geometry  \n",
       "1  POLYGON ((-71.16964 42.70664, -71.16917 42.706...  \n",
       "2  POLYGON ((-71.19121 42.71057, -71.19092 42.710...  \n",
       "3  POLYGON ((-71.18359 42.71505, -71.18314 42.715...  \n",
       "4  POLYGON ((-71.17883 42.71786, -71.17673 42.719...  \n",
       "5  POLYGON ((-71.17166 42.72127, -71.1709 42.7208...  "
      ]
     },
     "execution_count": 45,
     "metadata": {},
     "output_type": "execute_result"
    }
   ],
   "source": [
    "merged_gdf.head()"
   ]
  },
  {
   "cell_type": "code",
   "execution_count": 46,
   "metadata": {},
   "outputs": [
    {
     "data": {
      "text/plain": [
       "1     POLYGON ((-71.16964 42.70664, -71.16917 42.706...\n",
       "2     POLYGON ((-71.19121 42.71057, -71.19092 42.710...\n",
       "3     POLYGON ((-71.18359 42.71505, -71.18314 42.715...\n",
       "4     POLYGON ((-71.17883 42.71786, -71.17673 42.719...\n",
       "5     POLYGON ((-71.17166 42.72127, -71.1709 42.7208...\n",
       "6     POLYGON ((-71.17242 42.72166, -71.17115 42.723...\n",
       "7     POLYGON ((-71.16562 42.71646, -71.16512 42.716...\n",
       "8     POLYGON ((-71.15342 42.72004, -71.15341 42.720...\n",
       "9     POLYGON ((-71.15623 42.71452, -71.15616 42.714...\n",
       "10    POLYGON ((-71.16394 42.71421, -71.16362 42.714...\n",
       "11    POLYGON ((-71.17681 42.71539, -71.17671 42.715...\n",
       "12    POLYGON ((-71.17158 42.70899, -71.17009 42.709...\n",
       "13    POLYGON ((-71.17822 42.69778, -71.17813 42.697...\n",
       "14    POLYGON ((-71.18927 42.69852, -71.18908 42.698...\n",
       "15    POLYGON ((-71.18886 42.69627, -71.18732 42.695...\n",
       "16    POLYGON ((-71.16514 42.70131, -71.16425 42.701...\n",
       "17    POLYGON ((-71.15952 42.69429, -71.15816 42.694...\n",
       "18    POLYGON ((-71.18606 42.67934, -71.18418 42.680...\n",
       "Name: geometry, dtype: geometry"
      ]
     },
     "execution_count": 46,
     "metadata": {},
     "output_type": "execute_result"
    }
   ],
   "source": [
    "merged_gdf['geometry']"
   ]
  },
  {
   "cell_type": "code",
   "execution_count": 47,
   "metadata": {},
   "outputs": [],
   "source": [
    "merged_gdf = gpd.GeoDataFrame(merged_gdf, geometry='geometry')"
   ]
  },
  {
   "cell_type": "code",
   "execution_count": 48,
   "metadata": {},
   "outputs": [
    {
     "data": {
      "image/png": "[encoded data removed]",
      "text/plain": [
       "<Figure size 1000x800 with 2 Axes>"
      ]
     },
     "metadata": {},
     "output_type": "display_data"
    }
   ],
   "source": [
    "# Plot the tracts, colored by the poverty index column\n",
    "fig, ax = plt.subplots(figsize=(10, 8))\n",
    "merged_gdf.plot(\n",
    "    column='Estimate',      # Column with poverty index values\n",
    "    cmap='OrRd',              # Color map for visualization\n",
    "    legend=True,              # Show color legend\n",
    "    edgecolor='black',        # Optional: black borders for tracts\n",
    "    ax=ax\n",
    ")\n",
    "ax.set_title('Poverty Index by Census Tract (Lawrence, MA)')\n",
    "plt.axis('off')\n",
    "plt.show()"
   ]
  },
  {
   "cell_type": "code",
   "execution_count": 49,
   "metadata": {},
   "outputs": [],
   "source": [
    "secondary_data_path = os.path.join(notebook_dir, '..', 'data', 'secondary_data')"
   ]
  },
  {
   "cell_type": "code",
   "execution_count": null,
   "metadata": {},
   "outputs": [],
   "source": [
    "# Save merged_gdf\n",
    "merged_gdf.to_file(os.path.join(secondary_data_path, 'poverty_boundary.geojson'), driver=\"GeoJSON\")"
   ]
  }
 ],
 "metadata": {
  "kernelspec": {
   "display_name": "venv",
   "language": "python",
   "name": "python3"
  },
  "language_info": {
   "codemirror_mode": {
    "name": "ipython",
    "version": 3
   },
   "file_extension": ".py",
   "mimetype": "text/x-python",
   "name": "python",
   "nbconvert_exporter": "python",
   "pygments_lexer": "ipython3",
   "version": "3.13.3"
  }
 },
 "nbformat": 4,
 "nbformat_minor": 2
}
