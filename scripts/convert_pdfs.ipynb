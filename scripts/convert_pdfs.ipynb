{
 "cells": [
  {
   "cell_type": "code",
   "execution_count": null,
   "metadata": {},
   "outputs": [
    {
     "name": "stdout",
     "output_type": "stream",
     "text": [
      "Processing: C:\\Users\\Indel\\OneDrive\\Documents\\Data Science RA\\gatewayinitiative-lawrencepd\\data\\2018_Janurary\\01-01-2018.pdf\n",
      "Processing: C:\\Users\\Indel\\OneDrive\\Documents\\Data Science RA\\gatewayinitiative-lawrencepd\\data\\2018_Janurary\\01-02-2018.pdf\n",
      "Processing: C:\\Users\\Indel\\OneDrive\\Documents\\Data Science RA\\gatewayinitiative-lawrencepd\\data\\2018_Janurary\\01-03-2018.pdf\n",
      "Processing: C:\\Users\\Indel\\OneDrive\\Documents\\Data Science RA\\gatewayinitiative-lawrencepd\\data\\2019_Janurary\\01-01-2019.pdf\n",
      "Done! The combined CSV is at: output_all_years.csv\n"
     ]
    }
   ],
   "source": [
    "import pdfplumber\n",
    "import os\n",
    "import csv\n",
    "import re\n",
    "from html import unescape\n",
    "\n",
    "# patterns\n",
    "incident_pattern = r\"Incident #:\\s*(\\d+)\"\n",
    "date_pattern = r\"Date:\\s*(\\d{4}-\\d{2}-\\d{2}\\s*\\d{2}:\\d{2}:\\d{2})\"\n",
    "type_pattern = r\"Type:\\s*([\\w\\s/]+)\"\n",
    "location_pattern = r\"Location:\\s*(.+?)(?=\\n|$)\"\n",
    "arrest_pattern = r\"Arrested:\"\n",
    "name_pattern = r\"Name:\\s*([^:\\n]+?)(?=\\s*Date of Birth:)\"\n",
    "dob_pattern = r\"Date of Birth:\\s*(\\d{2}/\\d{2}/\\d{4})\"\n",
    "charges_pattern = r\"Charges:\\s*((?:.+?(\\n|$))*?)(?=\\n(?:\\w+:|$))\"\n",
    "\n",
    "def process_pdf(file_path):\n",
    "    data = []\n",
    "    with pdfplumber.open(file_path) as pdf:\n",
    "        # concatenate text from all pages\n",
    "        text = \"\\n\".join(page.extract_text() for page in pdf.pages if page.extract_text())\n",
    "        text = unescape(text)\n",
    "\n",
    "        # split incidents on lines \"===========\" (the separator between incidents)\n",
    "        incidents = re.split(r\"={10,}\", text)\n",
    "        for incident in incidents:\n",
    "            incident_number = re.search(incident_pattern, incident)\n",
    "            date = re.search(date_pattern, incident)\n",
    "            type_field = re.search(type_pattern, incident)\n",
    "            location = re.search(location_pattern, incident)\n",
    "\n",
    "            arrested = \"No\"\n",
    "            name = \"\"\n",
    "            dob = \"\"\n",
    "            charges = \"\"\n",
    "\n",
    "            # check if \"Arrested:\" exists\n",
    "            if re.search(arrest_pattern, incident):\n",
    "                arrested = \"Yes\"\n",
    "                name_match = re.search(name_pattern, incident)\n",
    "                dob_match = re.search(dob_pattern, incident)\n",
    "                charges_match = re.search(charges_pattern, incident, re.DOTALL)\n",
    "\n",
    "                name = name_match.group(1).strip() if name_match else \"N/A\"\n",
    "                dob = dob_match.group(1) if dob_match else \"N/A\"\n",
    "                if charges_match:\n",
    "                    # split charges into separate lines and join with \";\"\n",
    "                    charges = \"; \".join(\n",
    "                        line.strip() \n",
    "                        for line in charges_match.group(1).splitlines() \n",
    "                        if line.strip()\n",
    "                    )\n",
    "                else:\n",
    "                    charges = \"N/A\"\n",
    "\n",
    "            # Add the row/entry\n",
    "            data.append({\n",
    "                \"Incident #\": incident_number.group(1) if incident_number else \"\",\n",
    "                \"Date\": date.group(1) if date else \"\",\n",
    "                \"Type\": type_field.group(1) if type_field else \"\",\n",
    "                \"Location\": location.group(1) if location else \"\",\n",
    "                \"Arrested\": arrested,\n",
    "                \"Name\": name,\n",
    "                \"DOB\": dob,\n",
    "                \"Charges\": charges\n",
    "            })\n",
    "    return data\n",
    "\n",
    "def process_all_pdfs(root_folder, output_csv):\n",
    "    all_data = []\n",
    "    # Walk through every subdirectory in root_folder\n",
    "    for current_path, dirs, files in os.walk(root_folder):\n",
    "        for file in files:\n",
    "            if file.endswith(\".pdf\"):\n",
    "                file_path = os.path.join(current_path, file)\n",
    "                print(f\"Processing: {file_path}\")\n",
    "                all_data.extend(process_pdf(file_path))\n",
    "\n",
    "    # Write the combined data to CSV\n",
    "    with open(output_csv, \"w\", newline=\"\", encoding=\"utf-8\") as csvfile:\n",
    "        fieldnames = [\"Incident #\", \"Date\", \"Type\", \"Location\", \"Arrested\", \"Name\", \"DOB\", \"Charges\"]\n",
    "        writer = csv.DictWriter(csvfile, fieldnames=fieldnames)\n",
    "        writer.writeheader()\n",
    "        writer.writerows(all_data)\n",
    "\n",
    "if __name__ == \"__main__\":\n",
    "    # point this root_folder to your top-level 'data' directory\n",
    "    root_folder = r\"C:\\Users\\Indel\\OneDrive\\Documents\\Data Science RA\\gatewayinitiative-lawrencepd\\data\"\n",
    "    output_csv = \"output_all_years.csv\"\n",
    "\n",
    "    # recursively process every .pdf under 'data/.../'\n",
    "    process_all_pdfs(root_folder, output_csv)\n",
    "\n",
    "    print(\"The combined CSV is at:\", output_csv)\n"
   ]
  },
  {
   "cell_type": "code",
   "execution_count": 3,
   "metadata": {},
   "outputs": [
    {
     "ename": "SyntaxError",
     "evalue": "invalid syntax (3528599804.py, line 1)",
     "output_type": "error",
     "traceback": [
      "\u001b[1;36m  Cell \u001b[1;32mIn[3], line 1\u001b[1;36m\u001b[0m\n\u001b[1;33m    git status\u001b[0m\n\u001b[1;37m        ^\u001b[0m\n\u001b[1;31mSyntaxError\u001b[0m\u001b[1;31m:\u001b[0m invalid syntax\n"
     ]
    }
   ],
   "source": []
  }
 ],
 "metadata": {
  "kernelspec": {
   "display_name": "venv",
   "language": "python",
   "name": "python3"
  },
  "language_info": {
   "codemirror_mode": {
    "name": "ipython",
    "version": 3
   },
   "file_extension": ".py",
   "mimetype": "text/x-python",
   "name": "python",
   "nbconvert_exporter": "python",
   "pygments_lexer": "ipython3",
   "version": "3.13.1"
  }
 },
 "nbformat": 4,
 "nbformat_minor": 2
}
