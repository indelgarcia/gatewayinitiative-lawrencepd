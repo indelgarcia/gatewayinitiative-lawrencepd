{
 "cells": [
  {
   "cell_type": "markdown",
   "id": "96406f51",
   "metadata": {},
   "source": [
    "### Read in unemployment data csv, clean the 'Geography' column to be standardized, and output as geojson"
   ]
  },
  {
   "cell_type": "code",
   "execution_count": 2,
   "id": "2de630c0",
   "metadata": {},
   "outputs": [],
   "source": [
    "import os\n",
    "import re\n",
    "import pandas as pd\n",
    "import geopandas as gpd\n",
    "import matplotlib.pyplot as plt"
   ]
  },
  {
   "cell_type": "code",
   "execution_count": 3,
   "id": "70003e38",
   "metadata": {},
   "outputs": [],
   "source": [
    "notebook_dir = os.getcwd() \n",
    "secondary_data_dir = os.path.join(notebook_dir, \"..\", \"data\", \"secondary_data\")"
   ]
  },
  {
   "cell_type": "code",
   "execution_count": 4,
   "id": "3321a384",
   "metadata": {},
   "outputs": [],
   "source": [
    "unemployment_csv = os.path.join(secondary_data_dir, \"unemployment_data\", \"unemployment.csv\")\n",
    "map_path = os.path.join(secondary_data_dir, \"unemployment_data\", \"tl_2024_25_tract\", \"tl_2024_25_tract.shp\")\n",
    "output_geojson = os.path.join(secondary_data_dir, \"unemployment_data\", \"unemployment_boundary.geojson\")"
   ]
  },
  {
   "cell_type": "code",
   "execution_count": 5,
   "id": "0fa46014",
   "metadata": {},
   "outputs": [],
   "source": [
    "STATE_FIPS = \"25\"  #Massachusetts\n",
    "COUNTY_FIPS = \"009\"  # Essex County\n",
    "\n",
    "# COLUMN NAMES\n",
    "COL_GEOG = \"Geography\"\n",
    "COL_EST = \"Unemployment rate—Population 16 years and over—Estimate\"\n",
    "COL_MOE = \"MoE\""
   ]
  },
  {
   "cell_type": "code",
   "execution_count": 7,
   "id": "664d3ddf",
   "metadata": {},
   "outputs": [],
   "source": [
    "# load and clean tracts like in poverty workflow\n",
    "def load_and_clean_tracts_map(map_path, state_fips=\"25\", county_fips=\"009\"):\n",
    "    gdf = gpd.read_file(map_path)\n",
    "    # Filter by FIPS codes if present\n",
    "    if \"STATEFP\" in gdf.columns and \"COUNTYFP\" in gdf.columns:\n",
    "        gdf = gdf[(gdf[\"STATEFP\"] == state_fips) & (gdf[\"COUNTYFP\"] == county_fips)]\n",
    "    # Normalize NAME to \"Census Tract ####\"\n",
    "    gdf[\"NAME\"] = gdf[\"NAME\"].astype(str).str.split(\".\").str[0]\n",
    "    gdf[\"NAME\"] = \"Census Tract \" + gdf[\"NAME\"]\n",
    "    return gdf"
   ]
  },
  {
   "cell_type": "code",
   "execution_count": 8,
   "id": "2dd215f7",
   "metadata": {},
   "outputs": [],
   "source": [
    "# 1) Read CSV and normalize the Geography text\n",
    "df = pd.read_csv(unemployment_csv, dtype=str, keep_default_na=False)"
   ]
  },
  {
   "cell_type": "code",
   "execution_count": 9,
   "id": "bed8e6e7",
   "metadata": {},
   "outputs": [
    {
     "data": {
      "text/html": [
       "<div>\n",
       "<style scoped>\n",
       "    .dataframe tbody tr th:only-of-type {\n",
       "        vertical-align: middle;\n",
       "    }\n",
       "\n",
       "    .dataframe tbody tr th {\n",
       "        vertical-align: top;\n",
       "    }\n",
       "\n",
       "    .dataframe thead th {\n",
       "        text-align: right;\n",
       "    }\n",
       "</style>\n",
       "<table border=\"1\" class=\"dataframe\">\n",
       "  <thead>\n",
       "    <tr style=\"text-align: right;\">\n",
       "      <th></th>\n",
       "      <th>Geography</th>\n",
       "      <th>Unemployment rate—Population 16 years and over—Estimate</th>\n",
       "      <th>MoE</th>\n",
       "    </tr>\n",
       "  </thead>\n",
       "  <tbody>\n",
       "    <tr>\n",
       "      <th>0</th>\n",
       "      <td>Census Tract 2501; Essex County; Massachusetts</td>\n",
       "      <td>9.6%</td>\n",
       "      <td>± 5.5%</td>\n",
       "    </tr>\n",
       "    <tr>\n",
       "      <th>1</th>\n",
       "      <td>Census Tract 2502; Essex County; Massachusetts</td>\n",
       "      <td>11.3%</td>\n",
       "      <td>± 5%</td>\n",
       "    </tr>\n",
       "    <tr>\n",
       "      <th>2</th>\n",
       "      <td>Census Tract 2503; Essex County; Massachusetts</td>\n",
       "      <td>10.4%</td>\n",
       "      <td>± 5.2%</td>\n",
       "    </tr>\n",
       "    <tr>\n",
       "      <th>3</th>\n",
       "      <td>Census Tract 2504; Essex County; Massachusetts</td>\n",
       "      <td>12%</td>\n",
       "      <td>± 10.3%</td>\n",
       "    </tr>\n",
       "    <tr>\n",
       "      <th>4</th>\n",
       "      <td>Census Tract 2505; Essex County; Massachusetts</td>\n",
       "      <td>8.3%</td>\n",
       "      <td>± 4.1%</td>\n",
       "    </tr>\n",
       "  </tbody>\n",
       "</table>\n",
       "</div>"
      ],
      "text/plain": [
       "                                        Geography  \\\n",
       "0  Census Tract 2501; Essex County; Massachusetts   \n",
       "1  Census Tract 2502; Essex County; Massachusetts   \n",
       "2  Census Tract 2503; Essex County; Massachusetts   \n",
       "3  Census Tract 2504; Essex County; Massachusetts   \n",
       "4  Census Tract 2505; Essex County; Massachusetts   \n",
       "\n",
       "  Unemployment rate—Population 16 years and over—Estimate      MoE  \n",
       "0                                               9.6%        ± 5.5%  \n",
       "1                                              11.3%          ± 5%  \n",
       "2                                              10.4%        ± 5.2%  \n",
       "3                                                12%       ± 10.3%  \n",
       "4                                               8.3%        ± 4.1%  "
      ]
     },
     "execution_count": 9,
     "metadata": {},
     "output_type": "execute_result"
    }
   ],
   "source": [
    "df.head()"
   ]
  },
  {
   "cell_type": "code",
   "execution_count": 10,
   "id": "1adae7a7",
   "metadata": {},
   "outputs": [],
   "source": [
    "def normalize_geography(text: str) -> str:\n",
    "    # \"Census Tract 2501; Essex County; Massachusetts\"\n",
    "    # Convert to \"Census Tract 2501, Essex County, Massachusetts\"\n",
    "    return re.sub(r\"\\s*;\\s*\", \", \", text.strip())\n",
    "\n",
    "df[COL_GEOG] = df[COL_GEOG].apply(normalize_geography)"
   ]
  },
  {
   "cell_type": "code",
   "execution_count": 11,
   "id": "0a4d3eae",
   "metadata": {},
   "outputs": [],
   "source": [
    "# Extract \"Census Tract ####\" for joining to tract NAME\n",
    "df[\"tract\"] = df[COL_GEOG].str.extract(r\"(Census Tract \\d+)\")"
   ]
  },
  {
   "cell_type": "code",
   "execution_count": 12,
   "id": "ccceeedc",
   "metadata": {},
   "outputs": [
    {
     "data": {
      "text/html": [
       "<div>\n",
       "<style scoped>\n",
       "    .dataframe tbody tr th:only-of-type {\n",
       "        vertical-align: middle;\n",
       "    }\n",
       "\n",
       "    .dataframe tbody tr th {\n",
       "        vertical-align: top;\n",
       "    }\n",
       "\n",
       "    .dataframe thead th {\n",
       "        text-align: right;\n",
       "    }\n",
       "</style>\n",
       "<table border=\"1\" class=\"dataframe\">\n",
       "  <thead>\n",
       "    <tr style=\"text-align: right;\">\n",
       "      <th></th>\n",
       "      <th>Geography</th>\n",
       "      <th>Unemployment rate—Population 16 years and over—Estimate</th>\n",
       "      <th>MoE</th>\n",
       "      <th>tract</th>\n",
       "    </tr>\n",
       "  </thead>\n",
       "  <tbody>\n",
       "    <tr>\n",
       "      <th>0</th>\n",
       "      <td>Census Tract 2501, Essex County, Massachusetts</td>\n",
       "      <td>9.6%</td>\n",
       "      <td>± 5.5%</td>\n",
       "      <td>Census Tract 2501</td>\n",
       "    </tr>\n",
       "    <tr>\n",
       "      <th>1</th>\n",
       "      <td>Census Tract 2502, Essex County, Massachusetts</td>\n",
       "      <td>11.3%</td>\n",
       "      <td>± 5%</td>\n",
       "      <td>Census Tract 2502</td>\n",
       "    </tr>\n",
       "    <tr>\n",
       "      <th>2</th>\n",
       "      <td>Census Tract 2503, Essex County, Massachusetts</td>\n",
       "      <td>10.4%</td>\n",
       "      <td>± 5.2%</td>\n",
       "      <td>Census Tract 2503</td>\n",
       "    </tr>\n",
       "    <tr>\n",
       "      <th>3</th>\n",
       "      <td>Census Tract 2504, Essex County, Massachusetts</td>\n",
       "      <td>12%</td>\n",
       "      <td>± 10.3%</td>\n",
       "      <td>Census Tract 2504</td>\n",
       "    </tr>\n",
       "    <tr>\n",
       "      <th>4</th>\n",
       "      <td>Census Tract 2505, Essex County, Massachusetts</td>\n",
       "      <td>8.3%</td>\n",
       "      <td>± 4.1%</td>\n",
       "      <td>Census Tract 2505</td>\n",
       "    </tr>\n",
       "  </tbody>\n",
       "</table>\n",
       "</div>"
      ],
      "text/plain": [
       "                                        Geography  \\\n",
       "0  Census Tract 2501, Essex County, Massachusetts   \n",
       "1  Census Tract 2502, Essex County, Massachusetts   \n",
       "2  Census Tract 2503, Essex County, Massachusetts   \n",
       "3  Census Tract 2504, Essex County, Massachusetts   \n",
       "4  Census Tract 2505, Essex County, Massachusetts   \n",
       "\n",
       "  Unemployment rate—Population 16 years and over—Estimate      MoE  \\\n",
       "0                                               9.6%        ± 5.5%   \n",
       "1                                              11.3%          ± 5%   \n",
       "2                                              10.4%        ± 5.2%   \n",
       "3                                                12%       ± 10.3%   \n",
       "4                                               8.3%        ± 4.1%   \n",
       "\n",
       "               tract  \n",
       "0  Census Tract 2501  \n",
       "1  Census Tract 2502  \n",
       "2  Census Tract 2503  \n",
       "3  Census Tract 2504  \n",
       "4  Census Tract 2505  "
      ]
     },
     "execution_count": 12,
     "metadata": {},
     "output_type": "execute_result"
    }
   ],
   "source": [
    "df.head()"
   ]
  },
  {
   "cell_type": "code",
   "execution_count": 13,
   "id": "a41ae2eb",
   "metadata": {},
   "outputs": [
    {
     "name": "stdout",
     "output_type": "stream",
     "text": [
      "0      9.6\n",
      "1     11.3\n",
      "2     10.4\n",
      "3     12.0\n",
      "4      8.3\n",
      "5     10.9\n",
      "6      7.4\n",
      "7      9.2\n",
      "8     11.2\n",
      "9     10.2\n",
      "10     5.2\n",
      "11     5.0\n",
      "12    12.4\n",
      "13    12.8\n",
      "14     4.7\n",
      "15    11.4\n",
      "16     8.2\n",
      "17     2.3\n",
      "Name: Estimate, dtype: float64\n"
     ]
    }
   ],
   "source": [
    "# 2) Clean numeric fields\n",
    "# Estimate like \"65.6%\" -> 65.6 as float\n",
    "df[\"Estimate\"] = (\n",
    "    df[COL_EST]\n",
    "    .str.replace(\"%\", \"\", regex=False)\n",
    "    .str.replace(\",\", \"\", regex=False)\n",
    "    .astype(float)\n",
    ")\n",
    "print(df[\"Estimate\"])"
   ]
  },
  {
   "cell_type": "code",
   "execution_count": 14,
   "id": "913503e6",
   "metadata": {},
   "outputs": [
    {
     "name": "stdout",
     "output_type": "stream",
     "text": [
      "0      ± 5.5%\n",
      "1        ± 5%\n",
      "2      ± 5.2%\n",
      "3     ± 10.3%\n",
      "4      ± 4.1%\n",
      "5      ± 4.8%\n",
      "6      ± 4.3%\n",
      "7      ± 5.3%\n",
      "8      ± 9.9%\n",
      "9      ± 8.5%\n",
      "10     ± 5.7%\n",
      "11     ± 6.7%\n",
      "12     ± 6.7%\n",
      "13     ± 6.8%\n",
      "14     ± 3.5%\n",
      "15     ± 9.1%\n",
      "16     ± 4.7%\n",
      "17     ± 2.1%\n",
      "Name: MoE, dtype: object\n"
     ]
    }
   ],
   "source": [
    "print(df[\"MoE\"])"
   ]
  },
  {
   "cell_type": "code",
   "execution_count": 15,
   "id": "ae41e987",
   "metadata": {},
   "outputs": [
    {
     "name": "stdout",
     "output_type": "stream",
     "text": [
      "0      5.5\n",
      "1      5.0\n",
      "2      5.2\n",
      "3     10.3\n",
      "4      4.1\n",
      "5      4.8\n",
      "6      4.3\n",
      "7      5.3\n",
      "8      9.9\n",
      "9      8.5\n",
      "10     5.7\n",
      "11     6.7\n",
      "12     6.7\n",
      "13     6.8\n",
      "14     3.5\n",
      "15     9.1\n",
      "16     4.7\n",
      "17     2.1\n",
      "Name: MoE, dtype: float64\n"
     ]
    }
   ],
   "source": [
    "# MoE like \"± 7.6%\" or \"± 7.6%\" with narrow spaces\n",
    "df[\"MoE\"] = (\n",
    "    df[COL_MOE]\n",
    "    .str.replace(\"±\", \"\", regex=False)\n",
    "    .str.replace(\"%\", \"\", regex=False)\n",
    "    .str.replace(\",\", \"\", regex=False)\n",
    "    .str.strip()\n",
    "    .astype(float)\n",
    ")\n",
    "print(df[\"MoE\"])"
   ]
  },
  {
   "cell_type": "code",
   "execution_count": 16,
   "id": "59ba768f",
   "metadata": {},
   "outputs": [],
   "source": [
    "employment_wide = df[[\"tract\", \"Estimate\", \"MoE\"]].copy()\n",
    "\n",
    "# -------------------------------------------------------------------\n",
    "# 3) Load tract shapes and merge\n",
    "# -------------------------------------------------------------------\n",
    "tracts_gdf = load_and_clean_tracts_map(map_path, STATE_FIPS, COUNTY_FIPS)\n",
    "merged_gdf = tracts_gdf.merge(employment_wide, left_on=\"NAME\", right_on=\"tract\", how=\"left\")"
   ]
  },
  {
   "cell_type": "code",
   "execution_count": 17,
   "id": "60515656",
   "metadata": {},
   "outputs": [
    {
     "name": "stdout",
     "output_type": "stream",
     "text": [
      "    STATEFP COUNTYFP TRACTCE        GEOID               GEOIDFQ  \\\n",
      "0        25      009  217402  25009217402  1400000US25009217402   \n",
      "1        25      009  202104  25009202104  1400000US25009202104   \n",
      "2        25      009  202103  25009202103  1400000US25009202103   \n",
      "3        25      009  217602  25009217602  1400000US25009217602   \n",
      "4        25      009  217102  25009217102  1400000US25009217102   \n",
      "..      ...      ...     ...          ...                   ...   \n",
      "169      25      009  208302  25009208302  1400000US25009208302   \n",
      "170      25      009  212101  25009212101  1400000US25009212101   \n",
      "171      25      009  208401  25009208401  1400000US25009208401   \n",
      "172      25      009  208402  25009208402  1400000US25009208402   \n",
      "173      25      009  212102  25009212102  1400000US25009212102   \n",
      "\n",
      "                  NAME              NAMELSAD  MTFCC FUNCSTAT     ALAND  \\\n",
      "0    Census Tract 2174  Census Tract 2174.02  G5020        S    767215   \n",
      "1    Census Tract 2021  Census Tract 2021.04  G5020        S   1204423   \n",
      "2    Census Tract 2021  Census Tract 2021.03  G5020        S   1718058   \n",
      "3    Census Tract 2176  Census Tract 2176.02  G5020        S  11552006   \n",
      "4    Census Tract 2171  Census Tract 2171.02  G5020        S   4902938   \n",
      "..                 ...                   ...    ...      ...       ...   \n",
      "169  Census Tract 2083  Census Tract 2083.02  G5020        S   4199517   \n",
      "170  Census Tract 2121  Census Tract 2121.01  G5020        S  20571367   \n",
      "171  Census Tract 2084  Census Tract 2084.01  G5020        S   6530788   \n",
      "172  Census Tract 2084  Census Tract 2084.02  G5020        S   4410795   \n",
      "173  Census Tract 2121  Census Tract 2121.02  G5020        S  14256626   \n",
      "\n",
      "       AWATER     INTPTLAT      INTPTLON  \\\n",
      "0      612514  +42.5423286  -070.8831274   \n",
      "1           0  +42.4782977  -070.9133968   \n",
      "2       24048  +42.4829995  -070.9199593   \n",
      "3    10035621  +42.5543276  -070.8236609   \n",
      "4      398229  +42.5848388  -070.8957263   \n",
      "..        ...          ...           ...   \n",
      "169    722531  +42.4850384  -071.0040806   \n",
      "170    575025  +42.6136944  -071.0052311   \n",
      "171    386401  +42.4876121  -071.0307634   \n",
      "172    145126  +42.4662513  -071.0359714   \n",
      "173   2121499  +42.6007185  -071.0308226   \n",
      "\n",
      "                                              geometry tract  Estimate  MoE  \n",
      "0    POLYGON ((-70.89417 42.54093, -70.8919 42.5433...   NaN       NaN  NaN  \n",
      "1    POLYGON ((-70.92644 42.47569, -70.9262 42.4756...   NaN       NaN  NaN  \n",
      "2    POLYGON ((-70.93398 42.4908, -70.92844 42.4894...   NaN       NaN  NaN  \n",
      "3    POLYGON ((-70.85629 42.5397, -70.85629 42.5440...   NaN       NaN  NaN  \n",
      "4    POLYGON ((-70.92226 42.59151, -70.92142 42.591...   NaN       NaN  NaN  \n",
      "..                                                 ...   ...       ...  ...  \n",
      "169  POLYGON ((-71.01723 42.48901, -71.01705 42.489...   NaN       NaN  NaN  \n",
      "170  POLYGON ((-71.05565 42.62288, -71.05509 42.625...   NaN       NaN  NaN  \n",
      "171  POLYGON ((-71.04695 42.48796, -71.04672 42.488...   NaN       NaN  NaN  \n",
      "172  POLYGON ((-71.05389 42.47878, -71.05373 42.479...   NaN       NaN  NaN  \n",
      "173  POLYGON ((-71.05935 42.60633, -71.05916 42.607...   NaN       NaN  NaN  \n",
      "\n",
      "[174 rows x 17 columns]\n"
     ]
    }
   ],
   "source": [
    "print(merged_gdf)"
   ]
  },
  {
   "cell_type": "code",
   "execution_count": 18,
   "id": "a06e2905",
   "metadata": {},
   "outputs": [],
   "source": [
    "# Drop tracts with no match, optional\n",
    "merged_gdf = merged_gdf.dropna(subset=[\"Estimate\"])\n",
    "\n",
    "# Ensure GeoDataFrame\n",
    "merged_gdf = gpd.GeoDataFrame(merged_gdf, geometry=\"geometry\", crs=tracts_gdf.crs)"
   ]
  },
  {
   "cell_type": "code",
   "execution_count": 19,
   "id": "6a0bbbf5",
   "metadata": {},
   "outputs": [
    {
     "name": "stdout",
     "output_type": "stream",
     "text": [
      "[DONE] Saved employment GeoJSON to: c:\\Users\\Indel\\Documents\\gatewayinitiative-lawrencepd\\scripts\\..\\data\\secondary_data\\unemployment_data\\unemployment_boundary.geojson\n"
     ]
    }
   ],
   "source": [
    "# -------------------------------------------------------------------\n",
    "# 4) Save GeoJSON\n",
    "# -------------------------------------------------------------------\n",
    "merged_gdf.to_file(output_geojson, driver=\"GeoJSON\")\n",
    "print(f\"[DONE] Saved employment GeoJSON to: {output_geojson}\")"
   ]
  },
  {
   "cell_type": "code",
   "execution_count": 20,
   "id": "df175657",
   "metadata": {},
   "outputs": [
    {
     "data": {
      "image/png": "[encoded data removed]",
      "text/plain": [
       "<Figure size 1000x800 with 2 Axes>"
      ]
     },
     "metadata": {},
     "output_type": "display_data"
    }
   ],
   "source": [
    "# -------------------------------------------------------------------\n",
    "# 5) Plot\n",
    "# -------------------------------------------------------------------\n",
    "fig, ax = plt.subplots(figsize=(10, 8))\n",
    "merged_gdf.plot(\n",
    "    column=\"Estimate\",\n",
    "    cmap=\"Blues\",\n",
    "    legend=True,\n",
    "    edgecolor=\"black\",\n",
    "    ax=ax\n",
    ")\n",
    "ax.set_title(\"Employment to Population Ratio by Census Tract, Essex County MA\")\n",
    "plt.axis(\"off\")\n",
    "plt.show()\n"
   ]
  }
 ],
 "metadata": {
  "kernelspec": {
   "display_name": "venv (3.13.3)",
   "language": "python",
   "name": "python3"
  },
  "language_info": {
   "codemirror_mode": {
    "name": "ipython",
    "version": 3
   },
   "file_extension": ".py",
   "mimetype": "text/x-python",
   "name": "python",
   "nbconvert_exporter": "python",
   "pygments_lexer": "ipython3",
   "version": "3.13.3"
  }
 },
 "nbformat": 4,
 "nbformat_minor": 5
}
